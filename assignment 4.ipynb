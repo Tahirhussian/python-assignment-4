{
 "cells": [
  {
   "cell_type": "markdown",
   "id": "e05f34f8",
   "metadata": {},
   "source": [
    "# 1"
   ]
  },
  {
   "cell_type": "code",
   "execution_count": 1,
   "id": "53a74463",
   "metadata": {},
   "outputs": [
    {
     "name": "stdout",
     "output_type": "stream",
     "text": [
      "Enter the first number: 10\n",
      "Enter the second number: 41\n",
      "Enter the operator you want to perform\n",
      "Enter any of these operator for operation +, -, *, /  /\n",
      "10 / 41 =  0.24390243902439024\n"
     ]
    }
   ],
   "source": [
    "num1=int(input(\"Enter the first number: \"))\n",
    "num2=int(input(\"Enter the second number: \"))\n",
    "\n",
    "print(\"Enter the operator you want to perform\");\n",
    "\n",
    "op=input(\"Enter any of these operator for operation +, -, *, /  \")\n",
    "\n",
    "result=0\n",
    "if op=='+':\n",
    "    result=num1+num2;\n",
    "elif op=='-':\n",
    "    result=num1-num2;\n",
    "\n",
    "elif op=='*':\n",
    "    result=num1*num2;\n",
    "elif op=='/':\n",
    "    result=num1/num2;\n",
    "\n",
    "else:\n",
    "   print(\"char is not supported\");\n",
    "\n",
    "print(num1,op,num2,\"= \",result)"
   ]
  },
  {
   "cell_type": "markdown",
   "id": "64cc8da9",
   "metadata": {},
   "source": [
    "# 2"
   ]
  },
  {
   "cell_type": "code",
   "execution_count": 5,
   "id": "329c7578",
   "metadata": {},
   "outputs": [
    {
     "name": "stdout",
     "output_type": "stream",
     "text": [
      "45\n",
      "65\n"
     ]
    }
   ],
   "source": [
    "ist = [\"abc\", \"def\", 45, \"ghi\", 65 ,\"xyz\"] \n",
    "for i in ist: \n",
    "    if type(i) == int: \n",
    "        print(i)"
   ]
  },
  {
   "cell_type": "markdown",
   "id": "00d381a3",
   "metadata": {},
   "source": [
    "# 3"
   ]
  },
  {
   "cell_type": "code",
   "execution_count": 10,
   "id": "e3c978ef",
   "metadata": {},
   "outputs": [],
   "source": [
    "theDict ={ 'a':10, 'b':20, 'c':30}\n",
    "# i add a new key name d so i code that\n",
    "theDict['d']=40"
   ]
  },
  {
   "cell_type": "markdown",
   "id": "14032cfe",
   "metadata": {},
   "source": [
    "# 4"
   ]
  },
  {
   "cell_type": "code",
   "execution_count": 12,
   "id": "446e5539",
   "metadata": {},
   "outputs": [
    {
     "name": "stdout",
     "output_type": "stream",
     "text": [
      "300\n"
     ]
    }
   ],
   "source": [
    "myDict = {'abc':100,'def':45,'xyz':155}\n",
    "print(sum(myDict.values()))"
   ]
  },
  {
   "cell_type": "markdown",
   "id": "63179df4",
   "metadata": {},
   "source": [
    "\n",
    "# 5"
   ]
  },
  {
   "cell_type": "code",
   "execution_count": 23,
   "id": "5f9fa55f",
   "metadata": {},
   "outputs": [
    {
     "name": "stdout",
     "output_type": "stream",
     "text": [
      "2 3 4 5 "
     ]
    }
   ],
   "source": [
    "aList=[1,2,3,4,5,2,3,4,7,9,5]\n",
    "l1=[]\n",
    "for i in aList:\n",
    "    if i not in l1:\n",
    "        l1.append(i)\n",
    "    else:\n",
    "        print(i,end=' ')"
   ]
  },
  {
   "cell_type": "markdown",
   "id": "c4d053a7",
   "metadata": {},
   "source": [
    "# 6"
   ]
  },
  {
   "cell_type": "code",
   "execution_count": 27,
   "id": "022668a5",
   "metadata": {},
   "outputs": [
    {
     "name": "stdout",
     "output_type": "stream",
     "text": [
      "The given dictionary :  {'a': 1, 'b': 5, 'c': 6, 'd': 9}\n",
      "enter your keya\n",
      "a is Present.\n"
     ]
    }
   ],
   "source": [
    "yDict = {'a':1,'b':5,'c':6,'d':9}\n",
    "print(\"The given dictionary : \",yDict)\n",
    "check_key = input(\"enter your key\")\n",
    "if check_key in yDict:\n",
    "   print(check_key,\"is Present.\")\n",
    "else:\n",
    "   print(check_key, \" is not Present.\")"
   ]
  },
  {
   "cell_type": "code",
   "execution_count": null,
   "id": "d5919aa5",
   "metadata": {},
   "outputs": [],
   "source": []
  }
 ],
 "metadata": {
  "kernelspec": {
   "display_name": "Python 3",
   "language": "python",
   "name": "python3"
  },
  "language_info": {
   "codemirror_mode": {
    "name": "ipython",
    "version": 3
   },
   "file_extension": ".py",
   "mimetype": "text/x-python",
   "name": "python",
   "nbconvert_exporter": "python",
   "pygments_lexer": "ipython3",
   "version": "3.8.8"
  }
 },
 "nbformat": 4,
 "nbformat_minor": 5
}
